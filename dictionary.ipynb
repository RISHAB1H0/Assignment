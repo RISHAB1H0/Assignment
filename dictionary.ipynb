{
 "cells": [
  {
   "cell_type": "code",
   "execution_count": 1,
   "id": "7985938e-ea0f-4d89-a87a-ffc8556526c9",
   "metadata": {},
   "outputs": [],
   "source": [
    "d={}"
   ]
  },
  {
   "cell_type": "code",
   "execution_count": 2,
   "id": "d8a0344a-6731-4ca5-902f-37a68c97dcfa",
   "metadata": {},
   "outputs": [
    {
     "data": {
      "text/plain": [
       "dict"
      ]
     },
     "execution_count": 2,
     "metadata": {},
     "output_type": "execute_result"
    }
   ],
   "source": [
    "type(d)"
   ]
  },
  {
   "cell_type": "code",
   "execution_count": 5,
   "id": "adbca411-7c92-4264-86d2-58ad48e833dd",
   "metadata": {},
   "outputs": [],
   "source": [
    "d1={'key':'sudh'}"
   ]
  },
  {
   "cell_type": "code",
   "execution_count": 6,
   "id": "509fe19f-1ea3-4604-8ae7-068e25008c7a",
   "metadata": {},
   "outputs": [
    {
     "data": {
      "text/plain": [
       "{'key': 'sudh'}"
      ]
     },
     "execution_count": 6,
     "metadata": {},
     "output_type": "execute_result"
    }
   ],
   "source": [
    "d1"
   ]
  },
  {
   "cell_type": "code",
   "execution_count": 7,
   "id": "23f599f4-23d5-4c45-9693-f354112e5093",
   "metadata": {},
   "outputs": [],
   "source": [
    "d2={'name' : \"sudhansu\",\"email\":\"sudhanshu@12\",\"number\":1234689}"
   ]
  },
  {
   "cell_type": "code",
   "execution_count": 8,
   "id": "ebcb4de9-398f-403c-9b80-cb019d3b6e10",
   "metadata": {},
   "outputs": [
    {
     "data": {
      "text/plain": [
       "{'name': 'sudhansu', 'email': 'sudhanshu@12', 'number': 1234689}"
      ]
     },
     "execution_count": 8,
     "metadata": {},
     "output_type": "execute_result"
    }
   ],
   "source": [
    "d2"
   ]
  },
  {
   "cell_type": "code",
   "execution_count": 9,
   "id": "f80988da-616d-4d0a-aec8-130d97887174",
   "metadata": {},
   "outputs": [],
   "source": [
    "d3={234 : \"sudh\",'wer':\"kumar\",True:243578}"
   ]
  },
  {
   "cell_type": "code",
   "execution_count": 10,
   "id": "1975ffea-6fa3-4738-abe5-a0eadb7fce8f",
   "metadata": {},
   "outputs": [
    {
     "data": {
      "text/plain": [
       "'sudh'"
      ]
     },
     "execution_count": 10,
     "metadata": {},
     "output_type": "execute_result"
    }
   ],
   "source": [
    "d3[234]"
   ]
  },
  {
   "cell_type": "code",
   "execution_count": 11,
   "id": "55654f20-6f3c-4ff5-8ada-e6b87c1fa060",
   "metadata": {},
   "outputs": [
    {
     "data": {
      "text/plain": [
       "243578"
      ]
     },
     "execution_count": 11,
     "metadata": {},
     "output_type": "execute_result"
    }
   ],
   "source": [
    "d3[True]"
   ]
  },
  {
   "cell_type": "code",
   "execution_count": 12,
   "id": "7b69e177-0431-4cfc-bbff-fa54cd1d1fdb",
   "metadata": {},
   "outputs": [
    {
     "data": {
      "text/plain": [
       "243578"
      ]
     },
     "execution_count": 12,
     "metadata": {},
     "output_type": "execute_result"
    }
   ],
   "source": [
    "d3[1]"
   ]
  },
  {
   "cell_type": "code",
   "execution_count": 13,
   "id": "dfcc0e12-dc80-4977-980d-f509dfec0799",
   "metadata": {},
   "outputs": [],
   "source": [
    "d4={'name':\"sudh\",'mai_e':\"ss@mai\",\"name\":\"sudhansu\"}"
   ]
  },
  {
   "cell_type": "code",
   "execution_count": 15,
   "id": "182db14a-72d2-4244-9566-4e12e5a5e24e",
   "metadata": {},
   "outputs": [
    {
     "data": {
      "text/plain": [
       "'sudhansu'"
      ]
     },
     "execution_count": 15,
     "metadata": {},
     "output_type": "execute_result"
    }
   ],
   "source": [
    "d4['name']"
   ]
  },
  {
   "cell_type": "code",
   "execution_count": 16,
   "id": "67a456a8-9471-41ad-89de-64c37afe6741",
   "metadata": {},
   "outputs": [],
   "source": [
    "d5={\"company\":\"data science\",\"course\":[\"web dev\",\"java\",\"data science\",\"java with dsa system\"]}"
   ]
  },
  {
   "cell_type": "code",
   "execution_count": 17,
   "id": "c8b59a08-6cb8-4df7-9d84-c914bdb2cbb1",
   "metadata": {},
   "outputs": [
    {
     "data": {
      "text/plain": [
       "['web dev', 'java', 'data science', 'java with dsa system']"
      ]
     },
     "execution_count": 17,
     "metadata": {},
     "output_type": "execute_result"
    }
   ],
   "source": [
    "d5[\"course\"]"
   ]
  },
  {
   "cell_type": "code",
   "execution_count": 18,
   "id": "d885f131-7c88-4d7f-8054-fabbd185dd5e",
   "metadata": {},
   "outputs": [
    {
     "data": {
      "text/plain": [
       "'data science'"
      ]
     },
     "execution_count": 18,
     "metadata": {},
     "output_type": "execute_result"
    }
   ],
   "source": [
    "d5['course'][2]"
   ]
  },
  {
   "cell_type": "code",
   "execution_count": 23,
   "id": "bbb3847d-7de8-4798-ba64-bad3f16a7825",
   "metadata": {},
   "outputs": [],
   "source": [
    "d6={\"number\":[2,34,56,78],'assigement':(2,3,4,6,7,8),\"launch_date\":{28,78,2000,},\"class time\":{\"web dev\":8,\"java\":1}}"
   ]
  },
  {
   "cell_type": "code",
   "execution_count": 24,
   "id": "edc59a47-1b38-4115-9246-d590676d7551",
   "metadata": {},
   "outputs": [
    {
     "data": {
      "text/plain": [
       "{'number': [2, 34, 56, 78],\n",
       " 'assigement': (2, 3, 4, 6, 7, 8),\n",
       " 'launch_date': {28, 78, 2000},\n",
       " 'class time': {'web dev': 8, 'java': 1}}"
      ]
     },
     "execution_count": 24,
     "metadata": {},
     "output_type": "execute_result"
    }
   ],
   "source": [
    "d6"
   ]
  },
  {
   "cell_type": "code",
   "execution_count": 29,
   "id": "8ae03bb2-3534-4e99-b851-d853355ea7b4",
   "metadata": {},
   "outputs": [
    {
     "data": {
      "text/plain": [
       "1"
      ]
     },
     "execution_count": 29,
     "metadata": {},
     "output_type": "execute_result"
    }
   ],
   "source": [
    "d6[\"class time\"]['java']"
   ]
  },
  {
   "cell_type": "code",
   "execution_count": 30,
   "id": "048f7141-8806-4e3a-aed3-aba814c7c2ea",
   "metadata": {},
   "outputs": [
    {
     "data": {
      "text/plain": [
       "{'number': [2, 34, 56, 78],\n",
       " 'assigement': (2, 3, 4, 6, 7, 8),\n",
       " 'launch_date': {28, 78, 2000},\n",
       " 'class time': {'web dev': 8, 'java': 1}}"
      ]
     },
     "execution_count": 30,
     "metadata": {},
     "output_type": "execute_result"
    }
   ],
   "source": [
    "d6"
   ]
  },
  {
   "cell_type": "code",
   "execution_count": 31,
   "id": "de973afb-0d06-41a2-964c-7f5af2750801",
   "metadata": {},
   "outputs": [],
   "source": [
    "d6['mentore']=[\"anurag\",\"ritesh\",\"krish\"]"
   ]
  },
  {
   "cell_type": "code",
   "execution_count": 32,
   "id": "58a43f50-dc2c-4ddb-a1a8-273acb03ebd1",
   "metadata": {},
   "outputs": [
    {
     "data": {
      "text/plain": [
       "{'number': [2, 34, 56, 78],\n",
       " 'assigement': (2, 3, 4, 6, 7, 8),\n",
       " 'launch_date': {28, 78, 2000},\n",
       " 'class time': {'web dev': 8, 'java': 1},\n",
       " 'mentore': ['anurag', 'ritesh', 'krish']}"
      ]
     },
     "execution_count": 32,
     "metadata": {},
     "output_type": "execute_result"
    }
   ],
   "source": [
    "d6"
   ]
  },
  {
   "cell_type": "code",
   "execution_count": 33,
   "id": "4dc8737c-3df9-4a7e-a3d8-0b43388eb54b",
   "metadata": {},
   "outputs": [],
   "source": [
    "del d6[\"number\"]"
   ]
  },
  {
   "cell_type": "code",
   "execution_count": 34,
   "id": "aadad637-a916-4e04-a0a2-34162bf4b5da",
   "metadata": {},
   "outputs": [
    {
     "data": {
      "text/plain": [
       "{'assigement': (2, 3, 4, 6, 7, 8),\n",
       " 'launch_date': {28, 78, 2000},\n",
       " 'class time': {'web dev': 8, 'java': 1},\n",
       " 'mentore': ['anurag', 'ritesh', 'krish']}"
      ]
     },
     "execution_count": 34,
     "metadata": {},
     "output_type": "execute_result"
    }
   ],
   "source": [
    "d6"
   ]
  },
  {
   "cell_type": "code",
   "execution_count": 36,
   "id": "bc1f7587-e8d9-4cfc-8bbf-c085c46c8d11",
   "metadata": {},
   "outputs": [
    {
     "data": {
      "text/plain": [
       "['assigement', 'launch_date', 'class time', 'mentore']"
      ]
     },
     "execution_count": 36,
     "metadata": {},
     "output_type": "execute_result"
    }
   ],
   "source": [
    "list(d6.keys())"
   ]
  },
  {
   "cell_type": "code",
   "execution_count": 37,
   "id": "750b202e-8645-42f7-9bf1-12c16ea7edcd",
   "metadata": {},
   "outputs": [
    {
     "data": {
      "text/plain": [
       "[('assigement', (2, 3, 4, 6, 7, 8)),\n",
       " ('launch_date', {28, 78, 2000}),\n",
       " ('class time', {'web dev': 8, 'java': 1}),\n",
       " ('mentore', ['anurag', 'ritesh', 'krish'])]"
      ]
     },
     "execution_count": 37,
     "metadata": {},
     "output_type": "execute_result"
    }
   ],
   "source": [
    "list(d6.items())"
   ]
  },
  {
   "cell_type": "code",
   "execution_count": 38,
   "id": "a35f974d-46a3-455e-b9f2-91e3d3b9e560",
   "metadata": {},
   "outputs": [
    {
     "data": {
      "text/plain": [
       "(2, 3, 4, 6, 7, 8)"
      ]
     },
     "execution_count": 38,
     "metadata": {},
     "output_type": "execute_result"
    }
   ],
   "source": [
    "d6.pop('assigement')"
   ]
  },
  {
   "cell_type": "code",
   "execution_count": 39,
   "id": "eb2bc7ed-0d28-4a40-9860-60d159832fdf",
   "metadata": {},
   "outputs": [
    {
     "data": {
      "text/plain": [
       "{'launch_date': {28, 78, 2000},\n",
       " 'class time': {'web dev': 8, 'java': 1},\n",
       " 'mentore': ['anurag', 'ritesh', 'krish']}"
      ]
     },
     "execution_count": 39,
     "metadata": {},
     "output_type": "execute_result"
    }
   ],
   "source": [
    "d6"
   ]
  },
  {
   "cell_type": "code",
   "execution_count": 52,
   "id": "7a95f372-ae21-4249-a591-779000755032",
   "metadata": {},
   "outputs": [
    {
     "name": "stdin",
     "output_type": "stream",
     "text": [
      "enter your marks 90\n"
     ]
    },
    {
     "name": "stdout",
     "output_type": "stream",
     "text": [
      "you will be a part of A0 batch\n"
     ]
    }
   ],
   "source": [
    "marks= int(input(\"enter your marks\"))\n",
    "\n",
    "if marks>= 80 :\n",
    "    print(\"you will be a part of A0 batch\")\n",
    "elif marks>= 60 and marks< 80:\n",
    "    print(\"ypu will be part of A1 batch\")\n",
    "elif marks>= 40 and marks < 60:\n",
    "    print(\"you will be a part of A2 batch\")\n",
    "else:\n",
    "    print(\"you will be a part of A3 batch\")"
   ]
  },
  {
   "cell_type": "code",
   "execution_count": 53,
   "id": "8b103205-9747-4faa-923e-4ec2ef2e05b7",
   "metadata": {},
   "outputs": [
    {
     "name": "stdin",
     "output_type": "stream",
     "text": [
      "enter price 200\n"
     ]
    },
    {
     "name": "stdout",
     "output_type": "stream",
     "text": [
      "i will purchase\n"
     ]
    }
   ],
   "source": [
    "price=int(input(\"enter price\"))\n",
    "if price > 1000 :\n",
    "    print(\"i will not purchase\")\n",
    "else:\n",
    "    print(\"i will purchase\")"
   ]
  },
  {
   "cell_type": "code",
   "execution_count": 57,
   "id": "066bb85f-ac65-414f-84b5-0f8616153e14",
   "metadata": {},
   "outputs": [
    {
     "name": "stdin",
     "output_type": "stream",
     "text": [
      "enter price 1400\n"
     ]
    },
    {
     "name": "stdout",
     "output_type": "stream",
     "text": [
      "i will not purchase\n",
      "its ok \n"
     ]
    }
   ],
   "source": [
    "price=int(input(\"enter price\"))\n",
    "if price > 1000 :\n",
    "    print(\"i will not purchase\")\n",
    "    if price > 5000 :\n",
    "        print(\"this is too much \")\n",
    "    elif price < 2000 :\n",
    "        print(\"its ok \")\n"
   ]
  },
  {
   "cell_type": "code",
   "execution_count": 62,
   "id": "f8cd9fc6-c9b7-48f2-b0a2-8950dcf67868",
   "metadata": {},
   "outputs": [],
   "source": [
    "l = [1,2,3,4,5,6,7,8,]"
   ]
  },
  {
   "cell_type": "code",
   "execution_count": 67,
   "id": "36929852-30c3-466e-b294-54965159059f",
   "metadata": {},
   "outputs": [
    {
     "name": "stdout",
     "output_type": "stream",
     "text": [
      "2\n",
      "3\n",
      "4\n",
      "5\n",
      "6\n",
      "7\n",
      "8\n",
      "9\n"
     ]
    }
   ],
   "source": [
    "l1=[]\n",
    "for i in l:\n",
    "    print(i+1)\n",
    "    l1.append(i+1)"
   ]
  },
  {
   "cell_type": "code",
   "execution_count": 68,
   "id": "718e96de-515e-4ee1-b3ba-577db5efbd3f",
   "metadata": {},
   "outputs": [
    {
     "data": {
      "text/plain": [
       "[1, 2, 3, 4, 5, 6, 7, 8]"
      ]
     },
     "execution_count": 68,
     "metadata": {},
     "output_type": "execute_result"
    }
   ],
   "source": [
    "l"
   ]
  },
  {
   "cell_type": "code",
   "execution_count": 69,
   "id": "71cf8e68-ba63-4887-81e2-730655e3e4d4",
   "metadata": {},
   "outputs": [
    {
     "data": {
      "text/plain": [
       "[2, 3, 4, 5, 6, 7, 8, 9]"
      ]
     },
     "execution_count": 69,
     "metadata": {},
     "output_type": "execute_result"
    }
   ],
   "source": [
    "l1"
   ]
  },
  {
   "cell_type": "code",
   "execution_count": 70,
   "id": "b68ef950-c8e8-4805-a555-2630079b5e10",
   "metadata": {},
   "outputs": [],
   "source": [
    "l = [\"sudh\",\"kumar\",\"course\",\"pwskills\"]"
   ]
  },
  {
   "cell_type": "code",
   "execution_count": 74,
   "id": "d26b763d-d850-4d6b-a008-d6cf1a564cf1",
   "metadata": {},
   "outputs": [
    {
     "name": "stdout",
     "output_type": "stream",
     "text": [
      "sudh\n",
      "kumar\n",
      "course\n",
      "pwskills\n"
     ]
    }
   ],
   "source": [
    "l1 =[]\n",
    "for i in l :\n",
    "    print(i)\n",
    "    l1.append(i.upper())"
   ]
  },
  {
   "cell_type": "code",
   "execution_count": 75,
   "id": "af460f47-58b3-4e09-9698-8ec0ad4bc135",
   "metadata": {},
   "outputs": [
    {
     "data": {
      "text/plain": [
       "['SUDH', 'KUMAR', 'COURSE', 'PWSKILLS']"
      ]
     },
     "execution_count": 75,
     "metadata": {},
     "output_type": "execute_result"
    }
   ],
   "source": [
    "l1"
   ]
  },
  {
   "cell_type": "code",
   "execution_count": 93,
   "id": "182a32bb-51e0-4c1a-811a-3ec17009b812",
   "metadata": {},
   "outputs": [],
   "source": [
    "l= [1,2,3,4,5,6,\"sudh\",\"kumar\",345.67,45,\"abc\"]"
   ]
  },
  {
   "cell_type": "code",
   "execution_count": 121,
   "id": "7c6c5d0f-f96b-4bb9-9b0a-628d876cfb1b",
   "metadata": {},
   "outputs": [
    {
     "ename": "IndentationError",
     "evalue": "unindent does not match any outer indentation level (<tokenize>, line 6)",
     "output_type": "error",
     "traceback": [
      "\u001b[0;36m  File \u001b[0;32m<tokenize>:6\u001b[0;36m\u001b[0m\n\u001b[0;31m    else:\u001b[0m\n\u001b[0m    ^\u001b[0m\n\u001b[0;31mIndentationError\u001b[0m\u001b[0;31m:\u001b[0m unindent does not match any outer indentation level\n"
     ]
    }
   ],
   "source": [
    "l1_num = []\n",
    "l2_str = []\n",
    "    for i in l :\n",
    "        if type (i)  == int  or type (i) == float :\n",
    "        l1_num.append(i)\n",
    "    else:\n",
    "        l2_str.append(i)"
   ]
  },
  {
   "cell_type": "code",
   "execution_count": null,
   "id": "99c9cc5e-8e01-4880-8812-12890efd4eb6",
   "metadata": {},
   "outputs": [],
   "source": []
  }
 ],
 "metadata": {
  "kernelspec": {
   "display_name": "Python 3 (ipykernel)",
   "language": "python",
   "name": "python3"
  },
  "language_info": {
   "codemirror_mode": {
    "name": "ipython",
    "version": 3
   },
   "file_extension": ".py",
   "mimetype": "text/x-python",
   "name": "python",
   "nbconvert_exporter": "python",
   "pygments_lexer": "ipython3",
   "version": "3.10.8"
  }
 },
 "nbformat": 4,
 "nbformat_minor": 5
}
