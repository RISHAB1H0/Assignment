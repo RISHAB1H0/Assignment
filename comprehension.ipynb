{
 "cells": [
  {
   "cell_type": "code",
   "execution_count": 2,
   "id": "85ce2d46-ea44-4160-b094-ff4f5698103e",
   "metadata": {},
   "outputs": [],
   "source": [
    "l = [1,2,3,4,45,5]\n",
    "l1 = []\n",
    "for i in l :\n",
    "    l1.append(i**2)"
   ]
  },
  {
   "cell_type": "code",
   "execution_count": 3,
   "id": "20657ef5-b48b-490f-9015-79dda2617d8f",
   "metadata": {},
   "outputs": [
    {
     "data": {
      "text/plain": [
       "[1, 4, 9, 16, 2025, 25]"
      ]
     },
     "execution_count": 3,
     "metadata": {},
     "output_type": "execute_result"
    }
   ],
   "source": [
    "l1"
   ]
  },
  {
   "cell_type": "code",
   "execution_count": 4,
   "id": "a9be6560-ec09-4301-9d15-4d98a5226f13",
   "metadata": {},
   "outputs": [
    {
     "data": {
      "text/plain": [
       "[1, 2, 3, 4, 45, 5]"
      ]
     },
     "execution_count": 4,
     "metadata": {},
     "output_type": "execute_result"
    }
   ],
   "source": [
    "l"
   ]
  },
  {
   "cell_type": "code",
   "execution_count": 5,
   "id": "bb1dadbe-136e-4d64-a09f-27798026416c",
   "metadata": {},
   "outputs": [
    {
     "data": {
      "text/plain": [
       "[1, 4, 9, 16, 2025, 25]"
      ]
     },
     "execution_count": 5,
     "metadata": {},
     "output_type": "execute_result"
    }
   ],
   "source": [
    "[i**2 for i in l]"
   ]
  },
  {
   "cell_type": "code",
   "execution_count": 6,
   "id": "f6d94c29-665b-49ae-8601-b1000b70970a",
   "metadata": {},
   "outputs": [
    {
     "data": {
      "text/plain": [
       "[2, 4]"
      ]
     },
     "execution_count": 6,
     "metadata": {},
     "output_type": "execute_result"
    }
   ],
   "source": [
    "[i  for i in l if i % 2 == 0]"
   ]
  },
  {
   "cell_type": "code",
   "execution_count": 8,
   "id": "a7a018e6-cd69-460d-887c-2dd86b195bd0",
   "metadata": {},
   "outputs": [],
   "source": [
    "l1 = [ \"sudh\",\"pwskills\",\"kumar\",\"data science master\"]"
   ]
  },
  {
   "cell_type": "code",
   "execution_count": 9,
   "id": "779217b9-ccf9-43d6-80a1-4ec5ff1306c2",
   "metadata": {},
   "outputs": [
    {
     "data": {
      "text/plain": [
       "['SUDH', 'PWSKILLS', 'KUMAR', 'DATA SCIENCE MASTER']"
      ]
     },
     "execution_count": 9,
     "metadata": {},
     "output_type": "execute_result"
    }
   ],
   "source": [
    "[ i.upper() for i in l1 ]"
   ]
  },
  {
   "cell_type": "code",
   "execution_count": 10,
   "id": "c7540006-380c-4683-879d-89f1b9bb138a",
   "metadata": {},
   "outputs": [
    {
     "data": {
      "text/plain": [
       "[1, 2, 3, 4, 45, 5]"
      ]
     },
     "execution_count": 10,
     "metadata": {},
     "output_type": "execute_result"
    }
   ],
   "source": [
    "l"
   ]
  },
  {
   "cell_type": "code",
   "execution_count": 12,
   "id": "35646c0c-d034-4477-b0ea-df24f9ad8c4a",
   "metadata": {},
   "outputs": [
    {
     "data": {
      "text/plain": [
       "[1, 4, 9, 16, 2025, 25]"
      ]
     },
     "execution_count": 12,
     "metadata": {},
     "output_type": "execute_result"
    }
   ],
   "source": [
    "list(i**2 for i in l )"
   ]
  },
  {
   "cell_type": "code",
   "execution_count": 13,
   "id": "3210194c-0a14-4a1c-b8fb-f7f5d98a6d62",
   "metadata": {},
   "outputs": [],
   "source": [
    "d= { \"key1\" : 1,\"key2\": 2, \" key3\" : 3, \"key4\" : 4,}"
   ]
  },
  {
   "cell_type": "code",
   "execution_count": 17,
   "id": "ff9725ab-3a27-48c1-aa19-9ad52bd1a3d6",
   "metadata": {},
   "outputs": [
    {
     "data": {
      "text/plain": [
       "{'key1': 1, 'key2': 4, ' key3': 9, 'key4': 16}"
      ]
     },
     "execution_count": 17,
     "metadata": {},
     "output_type": "execute_result"
    }
   ],
   "source": [
    "{ k : v **2 for k, v, in d.items()}"
   ]
  },
  {
   "cell_type": "code",
   "execution_count": 18,
   "id": "f25db473-2eaa-4e28-826f-99d22e35d48f",
   "metadata": {},
   "outputs": [
    {
     "data": {
      "text/plain": [
       "{'key1': 1, 'key2': 2, ' key3': 3, 'key4': 4}"
      ]
     },
     "execution_count": 18,
     "metadata": {},
     "output_type": "execute_result"
    }
   ],
   "source": [
    "d"
   ]
  },
  {
   "cell_type": "code",
   "execution_count": 20,
   "id": "c39bdcb6-d988-401a-a5bf-04b3f28dfb98",
   "metadata": {},
   "outputs": [
    {
     "data": {
      "text/plain": [
       "{'key2': 2, ' key3': 3, 'key4': 4}"
      ]
     },
     "execution_count": 20,
     "metadata": {},
     "output_type": "execute_result"
    }
   ],
   "source": [
    "{k : v for k, v, in d.items() if v> 1}"
   ]
  }
 ],
 "metadata": {
  "kernelspec": {
   "display_name": "Python 3 (ipykernel)",
   "language": "python",
   "name": "python3"
  },
  "language_info": {
   "codemirror_mode": {
    "name": "ipython",
    "version": 3
   },
   "file_extension": ".py",
   "mimetype": "text/x-python",
   "name": "python",
   "nbconvert_exporter": "python",
   "pygments_lexer": "ipython3",
   "version": "3.10.8"
  }
 },
 "nbformat": 4,
 "nbformat_minor": 5
}
